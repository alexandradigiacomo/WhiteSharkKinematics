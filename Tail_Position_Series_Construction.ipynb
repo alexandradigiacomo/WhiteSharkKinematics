{
  "cells": [
    {
      "cell_type": "code",
      "execution_count": null,
      "metadata": {
        "colab": {
          "base_uri": "https://localhost:8080/"
        },
        "id": "V1XrZSkyG7Rt",
        "outputId": "b602cb9a-b576-4e03-99a5-0e0963ec36aa"
      },
      "outputs": [
        {
          "name": "stdout",
          "output_type": "stream",
          "text": [
            "Mounted at /content/drive\n"
          ]
        }
      ],
      "source": [
        "import numpy as np\n",
        "import math\n",
        "import matplotlib.pyplot as plt\n",
        "import pandas as pd\n",
        "import csv\n",
        "import os\n",
        "from google.colab import drive\n",
        "drive.mount('/content/drive', force_remount = True) # mount drive to pull files"
      ]
    },
    {
      "cell_type": "code",
      "execution_count": null,
      "metadata": {
        "id": "z_gvpx_idzGM"
      },
      "outputs": [],
      "source": [
        "# read in coordinates .csv from drive\n",
        "coordinate_file = \"\" # your coordinate file\n",
        "points = pd.read_csv(coordinate_file)"
      ]
    },
    {
      "cell_type": "code",
      "execution_count": null,
      "metadata": {
        "id": "9JlAfmrAP-J-"
      },
      "outputs": [],
      "source": [
        "def rotate_vector(vector, angle):\n",
        "    \"\"\" Rotates a vector around the origin by `angle` radians.\n",
        "    Args:\n",
        "        vector: A numpy array of length 2 representing the vector to be rotated.\n",
        "        angle: The angle in radians by which the vector should be rotated.\n",
        "    Returns:\n",
        "        A numpy array of length 2 representing the rotated vector.\n",
        "    \"\"\"\n",
        "    x = np.array(vector[0]) * math.cos(angle) - np.array(vector[1]) * math.sin(angle)\n",
        "    y = np.array(vector[0]) * math.sin(angle) + np.array(vector[1]) * math.cos(angle)\n",
        "\n",
        "    return [x, y]"
      ]
    },
    {
      "cell_type": "markdown",
      "metadata": {
        "id": "DVf8NaVO_6aI"
      },
      "source": [
        "## Extract Angles and Create Plots/CSV Files"
      ]
    },
    {
      "cell_type": "code",
      "execution_count": null,
      "metadata": {
        "id": "vJ1va86H_3vD"
      },
      "outputs": [],
      "source": [
        "def data_transformation(df, file_name):\n",
        "\n",
        "  points = df\n",
        "\n",
        "  # Filter data where time is less than or equal to 95 (case-specific)\n",
        "  # points = df[df['index'] <= 2222]\n",
        "\n",
        "  angleDeg = [] # initialize list of angles\n",
        "  for i in range(len(points)):\n",
        "    # define coordinates of three points\n",
        "    nx, ny = points['nose'][i], points['nose.1'][i]\n",
        "    dx, dy = points ['dorsalfin'][i], points ['dorsalfin.1'][i]\n",
        "    cx, cy = points ['caudalfin'][i], points ['caudalfin.1'][i]\n",
        "\n",
        "    # create vectors\n",
        "    nd, nc = [(dx - nx), (dy - ny)], [(cx - nx), (cy - ny)] # nd, nc vectors\n",
        "\n",
        "    # make unit vectors\n",
        "    ndUnit, ncUnit = nd/np.linalg.norm(nd), nc/np.linalg.norm(nc) # unit vectors\n",
        "\n",
        "    yNegUnit = [0,-1] # unit vector on the negative y axis\n",
        "\n",
        "    # get the rotation angle (from nd to the <0, -1> vector)\n",
        "    theta = np.arccos(np.dot(yNegUnit, ndUnit))\n",
        "    if (ndUnit[0] > 0): theta = 2* math.pi - theta # angle clause if x-value of nd is negative (q3, q4)\n",
        "\n",
        "    # rotate vectors\n",
        "    ndTransf, ncTransf = rotate_vector(ndUnit, theta), rotate_vector(ncUnit, theta)\n",
        "\n",
        "    # calculate angle\n",
        "    angle = np.degrees(np.arccos(np.dot(ndTransf, ncTransf)))\n",
        "\n",
        "    # left-right (-L, +R)\n",
        "    if (ncTransf[0] < 0): angle = -angle # if the x-value of the transformed nc vector is -; make angle - (otherwise stay +)\n",
        "\n",
        "    angleDeg.append(angle)\n",
        "\n",
        "  # create dataframe of angles\n",
        "  df_ofAngles = pd.DataFrame(angleDeg, columns=['angles'])\n",
        "\n",
        "  # combine the dataframes vertically\n",
        "  combined_df_with_angles = pd.concat([points, df_ofAngles], axis=1)\n",
        "\n",
        "  ############### Data Cleaning\n",
        "\n",
        "  # biological threshold\n",
        "  for i, angle in enumerate(combined_df_with_angles['angles']):\n",
        "    if angle > 45 or angle < -45:\n",
        "      combined_df_with_angles.at[i, 'angles'] = np.nan\n",
        "\n",
        "\n",
        "  # z-score for sine curve\n",
        "  # calculate the interquartile range (IQR)\n",
        "  Q1 = combined_df_with_angles['angles'].quantile(0.25)\n",
        "  Q3 = combined_df_with_angles['angles'].quantile(0.75)\n",
        "  IQR = Q3 - Q1\n",
        "\n",
        "  # define the lower and upper bounds for outlier detection\n",
        "  lower_bound = Q1 - 1.5 * IQR\n",
        "  upper_bound = Q3 + 1.5 * IQR\n",
        "\n",
        "  # find outliers in the 'y' column\n",
        "  df_filtered = combined_df_with_angles[\n",
        "      (combined_df_with_angles['angles'] >= lower_bound) &\n",
        "      (combined_df_with_angles['angles'] <= upper_bound) &\n",
        "      (combined_df_with_angles['angles'] <= 45) &\n",
        "      (combined_df_with_angles['angles'] >= -45)\n",
        "  ]\n",
        "\n",
        "  ############### Plotting \n",
        "\n",
        "  # plot setup \n",
        "  plt.figure(figsize=(10, 5))\n",
        "  plt.xlabel('Time (sec)')\n",
        "  plt.ylabel('Angle (degrees)')\n",
        "  plt.plot(df_filtered['index']/24, df_filtered['angles'], color = 'gray', zorder=1)\n",
        "  plt.plot(df_filtered['index']/24, df_filtered['angles'], color = 'green', label='Filtered Data', marker='.', markersize = 10, alpha=0.5, zorder=1)\n",
        "  # Plot horizontal dashed lines at 45 and -45 degrees\n",
        "  plt.axhline(y=45, color='black', linestyle='--', label='45°')\n",
        "  plt.axhline(y=-45, color='black', linestyle='--', label='-45°')\n",
        "\n",
        "  ############### Saving data\n",
        "\n",
        "  # Set the path to the CSV file in your Drive where you want the output csv file to be saved\n",
        "  path = f'/content/drive/MyDrive/2022_2023_transformed/{file_name}.csv'\n",
        "  new_path = os.path.splitext(path)[0] + '_transformed.csv'\n",
        "\n",
        "  # Save the dataframe as a CSV file in your Drive\n",
        "  df_filtered.to_csv(new_path, index=False) #can change index to true if want indexes saved with it\n",
        "\n",
        "  # Save the plots to a folder in your Drive\n",
        "  images_dir = f'/content/drive/MyDrive/2022_2023_vector_rotation_plots'\n",
        "  plt.savefig(f'{images_dir}/{file_name}.png')"
      ]
    }
  ],
  "metadata": {
    "colab": {
      "provenance": []
    },
    "kernelspec": {
      "display_name": "Python 3",
      "name": "python3"
    },
    "language_info": {
      "name": "python"
    }
  },
  "nbformat": 4,
  "nbformat_minor": 0
}
