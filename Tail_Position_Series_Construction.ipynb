{
  "cells": [
    {
      "cell_type": "code",
      "execution_count": 1,
      "metadata": {
        "colab": {
          "base_uri": "https://localhost:8080/"
        },
        "id": "V1XrZSkyG7Rt",
        "outputId": "b602cb9a-b576-4e03-99a5-0e0963ec36aa"
      },
      "outputs": [],
      "source": [
        "import numpy as np\n",
        "import math\n",
        "import matplotlib.pyplot as plt\n",
        "import pandas as pd\n",
        "import os"
      ]
    },
    {
      "cell_type": "code",
      "execution_count": null,
      "metadata": {
        "id": "z_gvpx_idzGM"
      },
      "outputs": [],
      "source": [
        "# read in coordinates .csv\n",
        "coordinate_file = \"\" # your coordinate file\n",
        "points = pd.read_csv(coordinate_file)"
      ]
    },
    {
      "cell_type": "code",
      "execution_count": 55,
      "metadata": {},
      "outputs": [],
      "source": [
        "def rotate_vector(vector, angle):\n",
        "    \"\"\"\n",
        "    Rotates a vector around the origin by angle (radians)\n",
        "    Args: vector (nd, nc), angle (the angle in rads by which to rotate the vector)\n",
        "    Returns: array representing the rotated vector\n",
        "    \"\"\"\n",
        "    x = np.array(vector[0]) * math.cos(angle) - np.array(vector[1]) * math.sin(angle)\n",
        "    y = np.array(vector[0]) * math.sin(angle) + np.array(vector[1]) * math.cos(angle)\n",
        "\n",
        "    return [x, y]"
      ]
    },
    {
      "cell_type": "code",
      "execution_count": 56,
      "metadata": {
        "id": "vJ1va86H_3vD"
      },
      "outputs": [],
      "source": [
        "def add_angles(df):\n",
        "  \"\"\" Calculates the angle between vectors formed by the nose, dorsal fin, and caudal fin for each row in the DataFrame.\n",
        "\n",
        "  Args: df, a DataFrame containing columns for the coordinates of the nose, dorsal fin, and caudal fin.\n",
        "  Returns: a DataFrame with an additional 'angle' column containing the computed angles in degrees\n",
        "  \"\"\"\n",
        "  points = df\n",
        "\n",
        "  angleDeg = [] # initialize list of angles\n",
        "  \n",
        "  for i in range(len(points)):\n",
        "    # define coordinates of three points\n",
        "    nx, ny = points['nose'][i], points['nose.1'][i]\n",
        "    dx, dy = points ['dorsalfin'][i], points ['dorsalfin.1'][i]\n",
        "    cx, cy = points ['caudalfin'][i], points ['caudalfin.1'][i]\n",
        "\n",
        "    # create vectors (eqn. 1)\n",
        "    nd, nc = [(dx - nx), (dy - ny)], [(cx - nx), (cy - ny)] # nd, nc vectors\n",
        "\n",
        "    # make unit vectors\n",
        "    ndUnit, ncUnit = nd / np.linalg.norm(nd), nc / np.linalg.norm(nc)\n",
        "\n",
        "    # Reference unit vector on negative y-axis\n",
        "    yNegUnit = np.array([0, -1])\n",
        "\n",
        "    # get rotation angle (from nd to <0, -1>)\n",
        "    theta = np.arccos(np.dot(yNegUnit, ndUnit))\n",
        "    if ndUnit[0] > 0:\n",
        "      theta = 2 * math.pi - theta  # quadrant adjustment\n",
        "\n",
        "    # rotate both vectors\n",
        "    ndTransf, ncTransf = rotate_vector(ndUnit, theta), rotate_vector(ncUnit, theta)\n",
        "   \n",
        "    # calculate angle\n",
        "    theta = np.degrees(np.arccos(np.dot(ndTransf, ncTransf)))\n",
        "\n",
        "    # determine left/right (-L, +R)\n",
        "    if ncTransf[0] < 0:\n",
        "      theta = -theta  # If the x-value of transformed nc is negative (left), make angle negative\n",
        "\n",
        "    # convert to degrees and append\n",
        "    angleDeg.append(theta)\n",
        "\n",
        "  # create dataframe of angles\n",
        "  df['angle'] = angleDeg\n",
        "\n",
        "  return df"
      ]
    },
    {
      "cell_type": "code",
      "execution_count": 57,
      "metadata": {},
      "outputs": [],
      "source": [
        "def clean_angles(df):\n",
        "  \"\"\" Cleans tail angle series with biological threshold and z-score filter. \n",
        "\n",
        "  Args: df, a DataFrame containing tail angles\n",
        "  Returns: a cleaned DataFrame\n",
        "  \"\"\"\n",
        "  # biological threshold\n",
        "  for i, angle in enumerate(df['angle']):\n",
        "    if angle > 45 or angle < -45:\n",
        "      df.at[i, 'angle'] = np.nan\n",
        "\n",
        "  # z-score for sine curve\n",
        "  # calculate the interquartile range (IQR)\n",
        "  Q1 = df['angle'].quantile(0.25)\n",
        "  Q3 = df['angle'].quantile(0.75)\n",
        "  IQR = Q3 - Q1\n",
        "\n",
        "  # define the lower and upper bounds for outlier detection\n",
        "  lower_bound = Q1 - 1.5 * IQR\n",
        "  upper_bound = Q3 + 1.5 * IQR\n",
        "\n",
        "  # find outliers in the 'y' column\n",
        "  df_filtered = df[\n",
        "      (df['angle'] >= lower_bound) &\n",
        "      (df['angle'] <= upper_bound) &\n",
        "      (df['angle'] <= 45) &\n",
        "      (df['angle'] >= -45)\n",
        "  ]\n",
        "\n",
        "  return df_filtered"
      ]
    },
    {
      "cell_type": "code",
      "execution_count": 58,
      "metadata": {},
      "outputs": [],
      "source": [
        "def plot_angles(df):\n",
        "  \"\"\" Plots tail angle time series. \n",
        "  Args: df, a cleaned dataframe of tail angles\n",
        "  Returns: a plot of the tail angle time series. \n",
        "  \"\"\"\n",
        "  # plot setup \n",
        "  plt.figure(figsize=(10, 5))\n",
        "  plt.xlabel('Time (sec)')\n",
        "  plt.ylabel('Angle (degrees)')\n",
        "  plt.plot(df['index']/24, df['angle'], color = 'gray', zorder=1)\n",
        "  plt.plot(df['index']/24, df['angle'], color = 'green', label='Filtered Data', marker='.', markersize = 10, alpha=0.5, zorder=1)\n",
        "  \n",
        "  # Plot horizontal dashed lines at 45 and -45 degrees\n",
        "  plt.axhline(y=45, color='black', linestyle='--', label='45°')\n",
        "  plt.axhline(y=-45, color='black', linestyle='--', label='-45°')\n",
        "\n",
        "  # Display legend and plot\n",
        "  plt.legend()\n",
        "  plt.show()"
      ]
    },
    {
      "cell_type": "code",
      "execution_count": 59,
      "metadata": {},
      "outputs": [
        {
          "data": {
            "image/png": 
